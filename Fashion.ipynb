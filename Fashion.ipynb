{
 "cells": [
  {
   "cell_type": "markdown",
   "metadata": {},
   "source": [
    "# 1. Importing Dependencies and Data"
   ]
  },
  {
   "cell_type": "code",
   "execution_count": 1,
   "metadata": {},
   "outputs": [],
   "source": [
    "# Bringing in tensorflow\n",
    "import tensorflow as tf \n",
    "gpus = tf.config.experimental.list_physical_devices('GPU')\n",
    "for gpu in gpus:\n",
    "    tf.config.experimental.set_memory_growth(gpu, True)"
   ]
  },
  {
   "cell_type": "code",
   "execution_count": 2,
   "metadata": {},
   "outputs": [
    {
     "name": "stdout",
     "output_type": "stream",
     "text": [
      "PhysicalDevice(name='/physical_device:GPU:0', device_type='GPU')\n"
     ]
    }
   ],
   "source": [
    "for gpu in gpus:\n",
    "    print(gpu)"
   ]
  },
  {
   "cell_type": "code",
   "execution_count": 3,
   "metadata": {},
   "outputs": [
    {
     "name": "stderr",
     "output_type": "stream",
     "text": [
      "c:\\Users\\agyat\\anaconda3\\envs\\tf210\\lib\\site-packages\\tqdm\\auto.py:21: TqdmWarning: IProgress not found. Please update jupyter and ipywidgets. See https://ipywidgets.readthedocs.io/en/stable/user_install.html\n",
      "  from .autonotebook import tqdm as notebook_tqdm\n"
     ]
    }
   ],
   "source": [
    "# Bringing tf datasets for fashion mnist\n",
    "import tensorflow_datasets as tfds \n",
    "from matplotlib import pyplot as plt"
   ]
  },
  {
   "cell_type": "code",
   "execution_count": 5,
   "metadata": {},
   "outputs": [
    {
     "name": "stdout",
     "output_type": "stream",
     "text": [
      "\u001b[1mDownloading and preparing dataset Unknown size (download: Unknown size, generated: Unknown size, total: Unknown size) to C:\\Users\\agyat\\tensorflow_datasets\\fashion_mnist\\3.0.1...\u001b[0m\n"
     ]
    },
    {
     "name": "stderr",
     "output_type": "stream",
     "text": [
      "Dl Completed...: 0 url [00:00, ? url/s]\n",
      "Dl Completed...:   0%|          | 0/1 [00:00<?, ? url/s]\n",
      "Dl Completed...:   0%|          | 0/2 [00:00<?, ? url/s]\n",
      "Dl Completed...:   0%|          | 0/3 [00:00<?, ? url/s]\n",
      "Dl Completed...:   0%|          | 0/4 [00:00<?, ? url/s]\n",
      "Dl Completed...:   0%|          | 0/4 [00:00<?, ? url/s]\n",
      "Dl Completed...:   0%|          | 0/4 [00:00<?, ? url/s]\n",
      "Dl Completed...:  25%|██▌       | 1/4 [00:00<00:02,  1.18 url/s]\n",
      "Dl Completed...:  25%|██▌       | 1/4 [00:00<00:02,  1.18 url/s]\n",
      "\u001b[A\n",
      "Dl Completed...:  25%|██▌       | 1/4 [00:00<00:02,  1.18 url/s]\n",
      "Dl Completed...:  25%|██▌       | 1/4 [00:00<00:02,  1.18 url/s]\n",
      "Dl Completed...:  25%|██▌       | 1/4 [00:00<00:02,  1.18 url/s]\n",
      "Dl Completed...:  50%|█████     | 2/4 [00:01<00:00,  2.05 url/s]\n",
      "Dl Completed...:  50%|█████     | 2/4 [00:01<00:00,  2.05 url/s]\n",
      "\u001b[A\n",
      "Dl Completed...:  50%|█████     | 2/4 [00:01<00:00,  2.05 url/s]\n",
      "Dl Completed...:  50%|█████     | 2/4 [00:02<00:00,  2.05 url/s]\n",
      "Dl Completed...:  50%|█████     | 2/4 [00:03<00:00,  2.05 url/s]\n",
      "Dl Completed...:  50%|█████     | 2/4 [00:03<00:00,  2.05 url/s]\n",
      "Dl Completed...:  50%|█████     | 2/4 [00:04<00:00,  2.05 url/s]\n",
      "Dl Completed...:  50%|█████     | 2/4 [00:05<00:00,  2.05 url/s]\n",
      "Dl Completed...:  50%|█████     | 2/4 [00:05<00:00,  2.05 url/s]\n",
      "Dl Completed...:  50%|█████     | 2/4 [00:06<00:00,  2.05 url/s]\n",
      "Dl Completed...:  50%|█████     | 2/4 [00:07<00:00,  2.05 url/s]\n",
      "Dl Completed...:  50%|█████     | 2/4 [00:07<00:00,  2.05 url/s]\n",
      "Dl Completed...:  50%|█████     | 2/4 [00:07<00:00,  2.05 url/s]\n",
      "Dl Completed...:  50%|█████     | 2/4 [00:08<00:00,  2.05 url/s]\n",
      "Dl Completed...:  50%|█████     | 2/4 [00:09<00:00,  2.05 url/s]\n",
      "Dl Completed...:  50%|█████     | 2/4 [00:09<00:00,  2.05 url/s]\n",
      "Dl Completed...:  75%|███████▌  | 3/4 [00:09<00:04,  4.21s/ url]\n",
      "Dl Completed...:  75%|███████▌  | 3/4 [00:09<00:04,  4.21s/ url]\n",
      "\u001b[A\n",
      "Dl Completed...:  75%|███████▌  | 3/4 [00:09<00:04,  4.21s/ url]\n",
      "Dl Completed...:  75%|███████▌  | 3/4 [00:11<00:04,  4.21s/ url]\n",
      "Dl Completed...:  75%|███████▌  | 3/4 [00:12<00:04,  4.21s/ url]\n",
      "Dl Completed...:  75%|███████▌  | 3/4 [00:13<00:04,  4.21s/ url]\n",
      "Dl Completed...:  75%|███████▌  | 3/4 [00:14<00:04,  4.21s/ url]\n",
      "Dl Completed...:  75%|███████▌  | 3/4 [00:15<00:04,  4.21s/ url]\n",
      "Dl Completed...:  75%|███████▌  | 3/4 [00:16<00:04,  4.21s/ url]\n",
      "Dl Completed...:  75%|███████▌  | 3/4 [00:17<00:04,  4.21s/ url]\n",
      "Dl Completed...:  75%|███████▌  | 3/4 [00:18<00:04,  4.21s/ url]\n",
      "Dl Completed...:  75%|███████▌  | 3/4 [00:19<00:04,  4.21s/ url]\n",
      "Dl Completed...:  75%|███████▌  | 3/4 [00:20<00:04,  4.21s/ url]\n",
      "Dl Completed...:  75%|███████▌  | 3/4 [00:22<00:04,  4.21s/ url]\n",
      "Dl Completed...:  75%|███████▌  | 3/4 [00:23<00:04,  4.21s/ url]\n",
      "Dl Completed...:  75%|███████▌  | 3/4 [00:24<00:04,  4.21s/ url]\n",
      "Dl Completed...:  75%|███████▌  | 3/4 [00:27<00:04,  4.21s/ url]\n",
      "Dl Completed...:  75%|███████▌  | 3/4 [00:29<00:04,  4.21s/ url]\n",
      "Dl Completed...:  75%|███████▌  | 3/4 [00:31<00:04,  4.21s/ url]\n",
      "Dl Completed...: 100%|██████████| 4/4 [00:32<00:00, 11.44s/ url]\n",
      "Dl Completed...: 100%|██████████| 4/4 [00:32<00:00, 11.44s/ url]\n",
      "\u001b[A\n",
      "Dl Completed...: 100%|██████████| 4/4 [00:32<00:00, 11.44s/ url]\n",
      "Extraction completed...: 100%|██████████| 4/4 [00:32<00:00,  8.13s/ file]\n",
      "Dl Size...: 100%|██████████| 29/29 [00:32<00:00,  1.12s/ MiB]\n",
      "Dl Completed...: 100%|██████████| 4/4 [00:32<00:00,  8.13s/ url]\n",
      "                                                                        "
     ]
    },
    {
     "name": "stdout",
     "output_type": "stream",
     "text": [
      "\u001b[1mDataset fashion_mnist downloaded and prepared to C:\\Users\\agyat\\tensorflow_datasets\\fashion_mnist\\3.0.1. Subsequent calls will reuse this data.\u001b[0m\n"
     ]
    },
    {
     "name": "stderr",
     "output_type": "stream",
     "text": [
      "\r"
     ]
    }
   ],
   "source": [
    "# Use tf datasets api to bring in the data source\n",
    "ds = tfds.load('fashion_mnist', split='train')"
   ]
  },
  {
   "cell_type": "code",
   "execution_count": 6,
   "metadata": {},
   "outputs": [
    {
     "data": {
      "text/plain": [
       "2"
      ]
     },
     "execution_count": 6,
     "metadata": {},
     "output_type": "execute_result"
    }
   ],
   "source": [
    "ds.as_numpy_iterator().next()['label']"
   ]
  },
  {
   "cell_type": "markdown",
   "metadata": {},
   "source": [
    "# 2. Viz Dataset and Build Dataset"
   ]
  },
  {
   "cell_type": "code",
   "execution_count": 4,
   "metadata": {},
   "outputs": [],
   "source": [
    "# Data transformation\n",
    "import numpy as np "
   ]
  },
  {
   "cell_type": "code",
   "execution_count": 8,
   "metadata": {},
   "outputs": [],
   "source": [
    "# Making an iterator for going through the dataset\n",
    "dataiterator = ds.as_numpy_iterator()"
   ]
  },
  {
   "cell_type": "code",
   "execution_count": null,
   "metadata": {},
   "outputs": [],
   "source": [
    "# Iterating\n",
    "dataiterator.next()"
   ]
  },
  {
   "cell_type": "code",
   "execution_count": 11,
   "metadata": {},
   "outputs": [
    {
     "data": {
      "image/png": "[encoded data removed]",
      "text/plain": [
       "<Figure size 2000x2000 with 4 Axes>"
      ]
     },
     "metadata": {},
     "output_type": "display_data"
    }
   ],
   "source": [
    "fig, ax = plt.subplots(ncols=4, figsize=(20, 20))\n",
    "for idx in range(4):\n",
    "    batch = dataiterator.next()\n",
    "    ax[idx].imshow(np.squeeze(batch['image']))\n",
    "    ax[idx].title.set_text(batch['label'])"
   ]
  },
  {
   "cell_type": "code",
   "execution_count": 5,
   "metadata": {},
   "outputs": [],
   "source": [
    "# Scale and return images only\n",
    "def scale_images(data):\n",
    "    image = data['image']\n",
    "    return image / 255"
   ]
  },
  {
   "cell_type": "code",
   "execution_count": 6,
   "metadata": {},
   "outputs": [],
   "source": [
    "# Reloading the dataset and scaling it\n",
    "ds = tfds.load('fashion_mnist', split='train')\n",
    "ds = ds.map(scale_images)\n",
    "ds = ds.cache()\n",
    "ds = ds.shuffle(60000)\n",
    "ds = ds.batch(128)\n",
    "ds = ds.prefetch(64)"
   ]
  },
  {
   "cell_type": "code",
   "execution_count": 7,
   "metadata": {},
   "outputs": [
    {
     "data": {
      "text/plain": [
       "(128, 28, 28, 1)"
      ]
     },
     "execution_count": 7,
     "metadata": {},
     "output_type": "execute_result"
    }
   ],
   "source": [
    "ds.as_numpy_iterator().next().shape"
   ]
  },
  {
   "cell_type": "markdown",
   "metadata": {},
   "source": [
    "# 3. Building the Neural Network"
   ]
  },
  {
   "cell_type": "markdown",
   "metadata": {},
   "source": [
    "Making the generator"
   ]
  },
  {
   "cell_type": "code",
   "execution_count": 8,
   "metadata": {},
   "outputs": [],
   "source": [
    "from tensorflow.keras.models import Sequential\n",
    "from tensorflow.keras.layers import Conv2D, Dense, Flatten, Reshape, LeakyReLU, Dropout, UpSampling2D"
   ]
  },
  {
   "cell_type": "code",
   "execution_count": 9,
   "metadata": {},
   "outputs": [],
   "source": [
    "def build_generator():\n",
    "    model = Sequential()\n",
    "\n",
    "    # Generating the image\n",
    "    model.add(Dense(7*7*128, input_dim=128))\n",
    "    model.add(LeakyReLU(0.2))\n",
    "    model.add(Reshape((7, 7, 128)))\n",
    "\n",
    "    # Upsampling block 1\n",
    "    model.add(UpSampling2D())\n",
    "    model.add(Conv2D(128, 5, padding='same'))\n",
    "    model.add(LeakyReLU(0.2))\n",
    "\n",
    "    # Upsampling block 2\n",
    "    model.add(UpSampling2D())\n",
    "    model.add(Conv2D(128, 5, padding='same'))\n",
    "    model.add(LeakyReLU(0.2))\n",
    "\n",
    "    # Upsampling block 1\n",
    "    model.add(Conv2D(128, 4, padding='same'))\n",
    "    model.add(LeakyReLU(0.2))\n",
    "\n",
    "    # Upsampling block 2\n",
    "    model.add(Conv2D(128, 4, padding='same'))\n",
    "    model.add(LeakyReLU(0.2))\n",
    "\n",
    "    # Conv layer to get one channle\n",
    "    model.add(Conv2D(1, 4, padding='same', activation='sigmoid'))\n",
    "    \n",
    "    return model"
   ]
  },
  {
   "cell_type": "code",
   "execution_count": 10,
   "metadata": {},
   "outputs": [
    {
     "name": "stdout",
     "output_type": "stream",
     "text": [
      "Model: \"sequential\"\n",
      "_________________________________________________________________\n",
      " Layer (type)                Output Shape              Param #   \n",
      "=================================================================\n",
      " dense (Dense)               (None, 6272)              809088    \n",
      "                                                                 \n",
      " leaky_re_lu (LeakyReLU)     (None, 6272)              0         \n",
      "                                                                 \n",
      " reshape (Reshape)           (None, 7, 7, 128)         0         \n",
      "                                                                 \n",
      " up_sampling2d (UpSampling2D  (None, 14, 14, 128)      0         \n",
      " )                                                               \n",
      "                                                                 \n",
      " conv2d (Conv2D)             (None, 14, 14, 128)       409728    \n",
      "                                                                 \n",
      " leaky_re_lu_1 (LeakyReLU)   (None, 14, 14, 128)       0         \n",
      "                                                                 \n",
      " up_sampling2d_1 (UpSampling  (None, 28, 28, 128)      0         \n",
      " 2D)                                                             \n",
      "                                                                 \n",
      " conv2d_1 (Conv2D)           (None, 28, 28, 128)       409728    \n",
      "                                                                 \n",
      " leaky_re_lu_2 (LeakyReLU)   (None, 28, 28, 128)       0         \n",
      "                                                                 \n",
      " conv2d_2 (Conv2D)           (None, 28, 28, 128)       262272    \n",
      "                                                                 \n",
      " leaky_re_lu_3 (LeakyReLU)   (None, 28, 28, 128)       0         \n",
      "                                                                 \n",
      " conv2d_3 (Conv2D)           (None, 28, 28, 128)       262272    \n",
      "                                                                 \n",
      " leaky_re_lu_4 (LeakyReLU)   (None, 28, 28, 128)       0         \n",
      "                                                                 \n",
      " conv2d_4 (Conv2D)           (None, 28, 28, 1)         2049      \n",
      "                                                                 \n",
      "=================================================================\n",
      "Total params: 2,155,137\n",
      "Trainable params: 2,155,137\n",
      "Non-trainable params: 0\n",
      "_________________________________________________________________\n"
     ]
    }
   ],
   "source": [
    "test_model = build_generator()\n",
    "test_model.summary()"
   ]
  },
  {
   "cell_type": "code",
   "execution_count": 11,
   "metadata": {},
   "outputs": [],
   "source": [
    "generator = build_generator()"
   ]
  },
  {
   "cell_type": "code",
   "execution_count": 12,
   "metadata": {},
   "outputs": [
    {
     "name": "stdout",
     "output_type": "stream",
     "text": [
      "1/1 [==============================] - 12s 12s/step\n"
     ]
    }
   ],
   "source": [
    "img = generator.predict(np.random.randn(4, 128, 1))"
   ]
  },
  {
   "cell_type": "code",
   "execution_count": 13,
   "metadata": {},
   "outputs": [
    {
     "data": {
      "image/png": "[encoded data removed]",
      "text/plain": [
       "<Figure size 2000x2000 with 4 Axes>"
      ]
     },
     "metadata": {},
     "output_type": "display_data"
    }
   ],
   "source": [
    "fig, ax = plt.subplots(ncols=4, figsize=(20, 20))\n",
    "for idx, img in enumerate(img):\n",
    "    ax[idx].imshow(np.squeeze(img))\n",
    "    ax[idx].title.set_text(idx)"
   ]
  },
  {
   "cell_type": "markdown",
   "metadata": {},
   "source": [
    "Making the discriminator"
   ]
  },
  {
   "cell_type": "code",
   "execution_count": 14,
   "metadata": {},
   "outputs": [],
   "source": [
    "def build_discriminator():\n",
    "    model = Sequential()\n",
    "\n",
    "    # First Conv block\n",
    "    model.add(Conv2D(32, 5, input_shape = (28, 28, 1)))\n",
    "    model.add(LeakyReLU(0.2))\n",
    "    model.add(Dropout(0.4))\n",
    "\n",
    "    # Second Conv block\n",
    "    model.add(Conv2D(64, 5))\n",
    "    model.add(LeakyReLU(0.2))\n",
    "    model.add(Dropout(0.4))\n",
    "\n",
    "    # Third Conv block\n",
    "    model.add(Conv2D(128, 5))\n",
    "    model.add(LeakyReLU(0.2))\n",
    "    model.add(Dropout(0.4))\n",
    "    \n",
    "    # Third Conv block\n",
    "    model.add(Conv2D(256, 5))\n",
    "    model.add(LeakyReLU(0.2))\n",
    "    model.add(Dropout(0.4))\n",
    "\n",
    "    # Flatten then passing to dense layer\n",
    "    model.add(Flatten())\n",
    "    model.add(Dropout(0.4))\n",
    "    model.add(Dense(1, activation='sigmoid'))\n",
    "\n",
    "    return model"
   ]
  },
  {
   "cell_type": "code",
   "execution_count": 15,
   "metadata": {},
   "outputs": [
    {
     "name": "stdout",
     "output_type": "stream",
     "text": [
      "Model: \"sequential_2\"\n",
      "_________________________________________________________________\n",
      " Layer (type)                Output Shape              Param #   \n",
      "=================================================================\n",
      " conv2d_10 (Conv2D)          (None, 24, 24, 32)        832       \n",
      "                                                                 \n",
      " leaky_re_lu_10 (LeakyReLU)  (None, 24, 24, 32)        0         \n",
      "                                                                 \n",
      " dropout (Dropout)           (None, 24, 24, 32)        0         \n",
      "                                                                 \n",
      " conv2d_11 (Conv2D)          (None, 20, 20, 64)        51264     \n",
      "                                                                 \n",
      " leaky_re_lu_11 (LeakyReLU)  (None, 20, 20, 64)        0         \n",
      "                                                                 \n",
      " dropout_1 (Dropout)         (None, 20, 20, 64)        0         \n",
      "                                                                 \n",
      " conv2d_12 (Conv2D)          (None, 16, 16, 128)       204928    \n",
      "                                                                 \n",
      " leaky_re_lu_12 (LeakyReLU)  (None, 16, 16, 128)       0         \n",
      "                                                                 \n",
      " dropout_2 (Dropout)         (None, 16, 16, 128)       0         \n",
      "                                                                 \n",
      " conv2d_13 (Conv2D)          (None, 12, 12, 256)       819456    \n",
      "                                                                 \n",
      " leaky_re_lu_13 (LeakyReLU)  (None, 12, 12, 256)       0         \n",
      "                                                                 \n",
      " dropout_3 (Dropout)         (None, 12, 12, 256)       0         \n",
      "                                                                 \n",
      " flatten (Flatten)           (None, 36864)             0         \n",
      "                                                                 \n",
      " dropout_4 (Dropout)         (None, 36864)             0         \n",
      "                                                                 \n",
      " dense_2 (Dense)             (None, 1)                 36865     \n",
      "                                                                 \n",
      "=================================================================\n",
      "Total params: 1,113,345\n",
      "Trainable params: 1,113,345\n",
      "Non-trainable params: 0\n",
      "_________________________________________________________________\n"
     ]
    }
   ],
   "source": [
    "discriminator = build_discriminator()\n",
    "discriminator.summary()"
   ]
  },
  {
   "cell_type": "markdown",
   "metadata": {},
   "source": [
    "# 4. Construct Training Loop"
   ]
  },
  {
   "cell_type": "markdown",
   "metadata": {},
   "source": [
    "4.1 Setup Losses and Optimizers"
   ]
  },
  {
   "cell_type": "code",
   "execution_count": 17,
   "metadata": {},
   "outputs": [],
   "source": [
    "from tensorflow.keras.optimizers import Adam # optimizer for both generator and discriminator\n",
    "from tensorflow.keras.losses import BinaryCrossentropy # used to be the loss for both"
   ]
  },
  {
   "cell_type": "code",
   "execution_count": 18,
   "metadata": {},
   "outputs": [],
   "source": [
    "g_opt = Adam(learning_rate=0.0001)\n",
    "d_opt = Adam(learning_rate=0.00001)\n",
    "g_loss = BinaryCrossentropy()\n",
    "d_loss = BinaryCrossentropy()"
   ]
  },
  {
   "cell_type": "markdown",
   "metadata": {},
   "source": [
    "4.2 Build Subclassed Model"
   ]
  },
  {
   "cell_type": "code",
   "execution_count": 19,
   "metadata": {},
   "outputs": [],
   "source": [
    "from tensorflow.keras.models import Model"
   ]
  },
  {
   "cell_type": "code",
   "execution_count": 20,
   "metadata": {},
   "outputs": [],
   "source": [
    "class FashionGAN(Model):\n",
    "    def __init__(self, generator, discriminator, *args, **kwargs):\n",
    "        super().__init__(*args, **kwargs)\n",
    "\n",
    "        # Create attributes for gen and dis\n",
    "        self.generator = generator\n",
    "        self.discriminator = discriminator\n",
    "\n",
    "    def compile(self, g_opt, d_opt, g_loss, d_loss, *args, **kwargs):\n",
    "        # Compile with base class\n",
    "        super().compile(*args, **kwargs)\n",
    "\n",
    "        self.g_opt = g_opt\n",
    "        self.d_opt = d_opt\n",
    "        self.g_loss = g_loss\n",
    "        self.d_loss = d_loss\n",
    "\n",
    "    def train_step(self, batch):\n",
    "        # Getting data\n",
    "        real_images = batch\n",
    "        fake_images = self.generator(tf.random.normal((128, 128, 1)), training=False)\n",
    "\n",
    "        # Training the discriminator\n",
    "        with tf.GradientTape() as d_tape:\n",
    "            # Pass the real and fake images to the discriminator model\n",
    "            yhat_real = self.discriminator(real_images, training=True)\n",
    "            yhat_fake = self.discriminator(fake_images, training=True)\n",
    "            yhat_realfake = tf.concat([yhat_real, yhat_fake], axis=0)\n",
    "        \n",
    "            # Create labels for real and fake images\n",
    "            y_realfake = tf.concat([tf.zeros_like(yhat_real), tf.ones_like(yhat_fake)], axis=0)\n",
    "\n",
    "            # Add some noise to the outputs\n",
    "            noise_real = 0.15*tf.random.uniform(tf.shape(yhat_real))\n",
    "            noise_fake = -0.15*tf.random.uniform(tf.shape(yhat_fake))\n",
    "            y_realfake += tf.concat([noise_real, noise_fake], axis=0)\n",
    "\n",
    "            # Calculate loss\n",
    "            total_d_loss = self.d_loss(y_realfake, yhat_realfake)\n",
    "\n",
    "        \n",
    "        dgrad = d_tape.gradient(total_d_loss, self.discriminator.trainable_variables)\n",
    "        self.d_opt.apply_gradients(zip(dgrad, self.discriminator.trainable_variables))\n",
    "        \n",
    "        with tf.GradientTape() as g_tape:\n",
    "            # Generating images\n",
    "            gen_images = self.generator(tf.random.normal((128, 128, 1)), training=True)\n",
    "\n",
    "            # Creating the predicted lables\n",
    "            predicted_labels = self.discriminator(gen_images, training=False)\n",
    "\n",
    "            # Calculated loss\n",
    "            total_g_loss = self.g_loss(tf.zeros_like(predicted_labels), predicted_labels)\n",
    "\n",
    "        # Apply backpropagation - nn learn\n",
    "        ggrad = g_tape.gradient(total_g_loss, self.generator.trainable_variables)\n",
    "        self.d_opt.apply_gradients(zip(ggrad, self.generator.trainable_variables))\n",
    "        return {'d_loss': total_d_loss, 'g_loss': total_g_loss}"
   ]
  },
  {
   "cell_type": "code",
   "execution_count": 21,
   "metadata": {},
   "outputs": [],
   "source": [
    "fashgan = FashionGAN(generator, discriminator)\n",
    "fashgan.compile(g_opt, d_opt, g_loss, d_loss)"
   ]
  },
  {
   "cell_type": "markdown",
   "metadata": {},
   "source": [
    "4.3 Building Callback"
   ]
  },
  {
   "cell_type": "code",
   "execution_count": 22,
   "metadata": {},
   "outputs": [],
   "source": [
    "import os\n",
    "from tensorflow.keras.preprocessing.image import array_to_img\n",
    "from tensorflow.keras.callbacks import Callback"
   ]
  },
  {
   "cell_type": "code",
   "execution_count": 23,
   "metadata": {},
   "outputs": [],
   "source": [
    "class ModelMonitor(Callback):\n",
    "    def __init__(self, num_img=3, latent_dim=128):\n",
    "        self.num_img = num_img\n",
    "        self.latent_dim = latent_dim\n",
    "\n",
    "    def on_epoch_end(self, epoch, logs=None):\n",
    "        random_latent_vectors = tf.random.uniform((self.num_img, self.latent_dim,1))\n",
    "        generated_images = self.model.generator(random_latent_vectors)\n",
    "        generated_images *= 255\n",
    "        generated_images.numpy()\n",
    "        for i in range(self.num_img):\n",
    "            img = array_to_img(generated_images[i])\n",
    "            img.save(os.path.join('images', f'generated_img_{epoch}_{i}.png'))"
   ]
  },
  {
   "cell_type": "markdown",
   "metadata": {},
   "source": [
    "4.3 Train"
   ]
  },
  {
   "cell_type": "code",
   "execution_count": 24,
   "metadata": {},
   "outputs": [
    {
     "name": "stdout",
     "output_type": "stream",
     "text": [
      "Epoch 1/20\n"
     ]
    },
    {
     "name": "stdout",
     "output_type": "stream",
     "text": [
      "  6/469 [..............................] - ETA: 2:17 - d_loss: 0.6955 - g_loss: 0.6773WARNING:tensorflow:Callback method `on_train_batch_end` is slow compared to the batch time (batch time: 0.1239s vs `on_train_batch_end` time: 0.1441s). Check your callbacks.\n"
     ]
    },
    {
     "name": "stderr",
     "output_type": "stream",
     "text": [
      "WARNING:tensorflow:Callback method `on_train_batch_end` is slow compared to the batch time (batch time: 0.1239s vs `on_train_batch_end` time: 0.1441s). Check your callbacks.\n"
     ]
    },
    {
     "name": "stdout",
     "output_type": "stream",
     "text": [
      "469/469 [==============================] - 154s 304ms/step - d_loss: 0.6210 - g_loss: 1.0667\n",
      "Epoch 2/20\n",
      "469/469 [==============================] - 142s 304ms/step - d_loss: 0.6500 - g_loss: 0.8460\n",
      "Epoch 3/20\n",
      "469/469 [==============================] - 143s 304ms/step - d_loss: 0.6584 - g_loss: 0.8015\n",
      "Epoch 4/20\n",
      "469/469 [==============================] - 143s 305ms/step - d_loss: 0.6564 - g_loss: 0.8575\n",
      "Epoch 5/20\n",
      "469/469 [==============================] - 143s 306ms/step - d_loss: 0.6343 - g_loss: 0.9135\n",
      "Epoch 6/20\n",
      "469/469 [==============================] - 143s 306ms/step - d_loss: 0.6560 - g_loss: 0.8369\n",
      "Epoch 7/20\n",
      "469/469 [==============================] - 144s 306ms/step - d_loss: 0.5865 - g_loss: 0.9765\n",
      "Epoch 8/20\n",
      "469/469 [==============================] - 144s 306ms/step - d_loss: 0.5459 - g_loss: 1.0496\n",
      "Epoch 9/20\n",
      "469/469 [==============================] - 144s 306ms/step - d_loss: 0.5806 - g_loss: 1.2975\n",
      "Epoch 10/20\n",
      "469/469 [==============================] - 144s 306ms/step - d_loss: 0.6535 - g_loss: 0.7574\n",
      "Epoch 11/20\n",
      "469/469 [==============================] - 144s 307ms/step - d_loss: 0.6279 - g_loss: 0.9371\n",
      "Epoch 12/20\n",
      "469/469 [==============================] - 144s 306ms/step - d_loss: 0.5468 - g_loss: 1.1564\n",
      "Epoch 13/20\n",
      "469/469 [==============================] - 144s 307ms/step - d_loss: 0.6225 - g_loss: 0.9015\n",
      "Epoch 14/20\n",
      "469/469 [==============================] - 144s 307ms/step - d_loss: 0.6008 - g_loss: 1.0258\n",
      "Epoch 15/20\n",
      "469/469 [==============================] - 144s 307ms/step - d_loss: 0.6287 - g_loss: 0.9025\n",
      "Epoch 16/20\n",
      "469/469 [==============================] - 144s 306ms/step - d_loss: 0.6363 - g_loss: 0.8807\n",
      "Epoch 17/20\n",
      "469/469 [==============================] - 144s 306ms/step - d_loss: 0.6416 - g_loss: 0.8253\n",
      "Epoch 18/20\n",
      "469/469 [==============================] - 144s 306ms/step - d_loss: 0.6437 - g_loss: 0.8378\n",
      "Epoch 19/20\n",
      "469/469 [==============================] - 144s 306ms/step - d_loss: 0.6377 - g_loss: 0.8469\n",
      "Epoch 20/20\n",
      "469/469 [==============================] - 144s 306ms/step - d_loss: 0.6255 - g_loss: 0.8247\n"
     ]
    }
   ],
   "source": [
    "hist = fashgan.fit(ds, epochs=20, callbacks=[ModelMonitor()])"
   ]
  },
  {
   "cell_type": "code",
   "execution_count": 25,
   "metadata": {},
   "outputs": [
    {
     "data": {
      "image/png": "[encoded data removed]",
      "text/plain": [
       "<Figure size 640x480 with 1 Axes>"
      ]
     },
     "metadata": {},
     "output_type": "display_data"
    }
   ],
   "source": [
    "plt.suptitle('Loss')\n",
    "plt.plot(hist.history['d_loss'], label='d_loss')\n",
    "plt.plot(hist.history['g_loss'], label='g_loss')\n",
    "plt.legend()\n",
    "plt.show()"
   ]
  },
  {
   "cell_type": "markdown",
   "metadata": {},
   "source": [
    "# 5. Test Out the Generator"
   ]
  },
  {
   "cell_type": "markdown",
   "metadata": {},
   "source": [
    "5.1 Generated Images"
   ]
  },
  {
   "cell_type": "code",
   "execution_count": 27,
   "metadata": {},
   "outputs": [
    {
     "name": "stdout",
     "output_type": "stream",
     "text": [
      "1/1 [==============================] - 0s 305ms/step\n"
     ]
    },
    {
     "data": {
      "text/plain": [
       "array([[[[2.40542308e-11],\n",
       "         [3.29154530e-14],\n",
       "         [1.78658992e-19],\n",
       "         ...,\n",
       "         [3.35484545e-33],\n",
       "         [8.57539878e-18],\n",
       "         [4.73206405e-11]],\n",
       "\n",
       "        [[1.32008000e-12],\n",
       "         [1.88460093e-16],\n",
       "         [3.82972216e-23],\n",
       "         ...,\n",
       "         [0.00000000e+00],\n",
       "         [5.86425464e-22],\n",
       "         [9.81397515e-12]],\n",
       "\n",
       "        [[9.39762892e-19],\n",
       "         [5.28246654e-25],\n",
       "         [1.31134311e-33],\n",
       "         ...,\n",
       "         [0.00000000e+00],\n",
       "         [5.53080537e-25],\n",
       "         [1.32974794e-13]],\n",
       "\n",
       "        ...,\n",
       "\n",
       "        [[2.05629420e-11],\n",
       "         [1.18121723e-12],\n",
       "         [1.82495078e-11],\n",
       "         ...,\n",
       "         [5.01121713e-23],\n",
       "         [1.61402298e-14],\n",
       "         [9.03281006e-10]],\n",
       "\n",
       "        [[3.95684197e-07],\n",
       "         [9.17807554e-08],\n",
       "         [5.95878703e-07],\n",
       "         ...,\n",
       "         [8.26244238e-13],\n",
       "         [7.55218199e-09],\n",
       "         [9.16747740e-06]],\n",
       "\n",
       "        [[1.94260443e-03],\n",
       "         [1.18256710e-03],\n",
       "         [1.09436770e-03],\n",
       "         ...,\n",
       "         [2.05869161e-04],\n",
       "         [4.84009768e-04],\n",
       "         [4.68876259e-03]]],\n",
       "\n",
       "\n",
       "       [[[2.40290321e-09],\n",
       "         [8.68253559e-12],\n",
       "         [1.70258383e-14],\n",
       "         ...,\n",
       "         [3.16113142e-06],\n",
       "         [1.76115101e-03],\n",
       "         [7.68725062e-04]],\n",
       "\n",
       "        [[1.60468627e-09],\n",
       "         [1.65901375e-12],\n",
       "         [1.38463904e-15],\n",
       "         ...,\n",
       "         [1.39914528e-06],\n",
       "         [1.73509645e-03],\n",
       "         [2.80533859e-04]],\n",
       "\n",
       "        [[4.13200897e-12],\n",
       "         [8.90406328e-16],\n",
       "         [1.59841293e-19],\n",
       "         ...,\n",
       "         [7.13577435e-07],\n",
       "         [1.30855094e-03],\n",
       "         [6.00184503e-05]],\n",
       "\n",
       "        ...,\n",
       "\n",
       "        [[7.37543793e-12],\n",
       "         [3.38278174e-19],\n",
       "         [2.93661032e-21],\n",
       "         ...,\n",
       "         [1.50590378e-04],\n",
       "         [4.62226151e-03],\n",
       "         [4.79611859e-04]],\n",
       "\n",
       "        [[1.17331354e-08],\n",
       "         [1.44384071e-13],\n",
       "         [9.00737631e-15],\n",
       "         ...,\n",
       "         [6.01174906e-02],\n",
       "         [1.04432151e-01],\n",
       "         [1.90213360e-02]],\n",
       "\n",
       "        [[1.45581333e-04],\n",
       "         [8.57618761e-06],\n",
       "         [2.34597587e-06],\n",
       "         ...,\n",
       "         [1.78314537e-01],\n",
       "         [1.51435286e-01],\n",
       "         [9.43953171e-02]]],\n",
       "\n",
       "\n",
       "       [[[6.39403669e-11],\n",
       "         [5.28771498e-15],\n",
       "         [7.38042079e-19],\n",
       "         ...,\n",
       "         [1.04390762e-18],\n",
       "         [2.25250808e-11],\n",
       "         [2.77728720e-08]],\n",
       "\n",
       "        [[2.50408427e-11],\n",
       "         [5.92715209e-17],\n",
       "         [1.71829586e-21],\n",
       "         ...,\n",
       "         [1.98991978e-24],\n",
       "         [7.00995023e-15],\n",
       "         [3.18991833e-09]],\n",
       "\n",
       "        [[3.28995084e-14],\n",
       "         [9.60936364e-21],\n",
       "         [9.27296232e-25],\n",
       "         ...,\n",
       "         [7.17198208e-27],\n",
       "         [3.37068986e-17],\n",
       "         [9.07887168e-11]],\n",
       "\n",
       "        ...,\n",
       "\n",
       "        [[2.60150738e-11],\n",
       "         [5.51673420e-12],\n",
       "         [1.70133507e-09],\n",
       "         ...,\n",
       "         [4.71358703e-07],\n",
       "         [2.49235367e-04],\n",
       "         [2.93439807e-05]],\n",
       "\n",
       "        [[1.21091375e-06],\n",
       "         [7.30833221e-07],\n",
       "         [1.84574947e-05],\n",
       "         ...,\n",
       "         [3.73584364e-04],\n",
       "         [1.07338959e-02],\n",
       "         [4.24421998e-03]],\n",
       "\n",
       "        [[2.64897197e-03],\n",
       "         [1.51210092e-03],\n",
       "         [1.60248636e-03],\n",
       "         ...,\n",
       "         [1.82072390e-02],\n",
       "         [5.19679748e-02],\n",
       "         [5.18463589e-02]]],\n",
       "\n",
       "\n",
       "       ...,\n",
       "\n",
       "\n",
       "       [[[5.70839709e-10],\n",
       "         [2.88245778e-15],\n",
       "         [1.78564206e-20],\n",
       "         ...,\n",
       "         [8.66439530e-29],\n",
       "         [2.88996524e-16],\n",
       "         [6.87600810e-10]],\n",
       "\n",
       "        [[2.26789632e-09],\n",
       "         [6.15445563e-16],\n",
       "         [3.59573075e-22],\n",
       "         ...,\n",
       "         [6.70778807e-33],\n",
       "         [5.78280208e-19],\n",
       "         [2.04902484e-10]],\n",
       "\n",
       "        [[3.61623123e-12],\n",
       "         [3.90524944e-19],\n",
       "         [1.00921963e-24],\n",
       "         ...,\n",
       "         [3.01888074e-28],\n",
       "         [4.63494816e-18],\n",
       "         [2.17823919e-11]],\n",
       "\n",
       "        ...,\n",
       "\n",
       "        [[3.58071214e-16],\n",
       "         [1.70707638e-23],\n",
       "         [2.27208072e-26],\n",
       "         ...,\n",
       "         [0.00000000e+00],\n",
       "         [1.04487610e-25],\n",
       "         [1.26347663e-12]],\n",
       "\n",
       "        [[2.70604028e-09],\n",
       "         [2.87823042e-13],\n",
       "         [6.28566802e-15],\n",
       "         ...,\n",
       "         [1.68053267e-24],\n",
       "         [1.73395935e-15],\n",
       "         [2.17097025e-07]],\n",
       "\n",
       "        [[2.46788928e-04],\n",
       "         [3.24462671e-05],\n",
       "         [8.46067724e-06],\n",
       "         ...,\n",
       "         [2.82655776e-07],\n",
       "         [7.80447772e-06],\n",
       "         [2.14175181e-03]]],\n",
       "\n",
       "\n",
       "       [[[5.45006806e-17],\n",
       "         [1.04277078e-23],\n",
       "         [6.18582449e-33],\n",
       "         ...,\n",
       "         [3.71356882e-36],\n",
       "         [2.12704842e-20],\n",
       "         [1.85023416e-12]],\n",
       "\n",
       "        [[1.26871622e-17],\n",
       "         [2.28852971e-26],\n",
       "         [2.82776201e-38],\n",
       "         ...,\n",
       "         [0.00000000e+00],\n",
       "         [4.09963839e-25],\n",
       "         [1.96883430e-13]],\n",
       "\n",
       "        [[9.34715765e-24],\n",
       "         [9.14197683e-35],\n",
       "         [0.00000000e+00],\n",
       "         ...,\n",
       "         [0.00000000e+00],\n",
       "         [2.72291612e-26],\n",
       "         [3.08958402e-15]],\n",
       "\n",
       "        ...,\n",
       "\n",
       "        [[1.22645216e-09],\n",
       "         [2.18278578e-14],\n",
       "         [5.98780693e-17],\n",
       "         ...,\n",
       "         [1.75025299e-24],\n",
       "         [4.18070740e-16],\n",
       "         [4.47139492e-10]],\n",
       "\n",
       "        [[1.35454445e-06],\n",
       "         [1.01008235e-09],\n",
       "         [2.55652340e-11],\n",
       "         ...,\n",
       "         [4.63149592e-13],\n",
       "         [1.98915351e-09],\n",
       "         [7.56036570e-06]],\n",
       "\n",
       "        [[1.44965097e-03],\n",
       "         [1.51427841e-04],\n",
       "         [4.06326471e-05],\n",
       "         ...,\n",
       "         [3.47484427e-04],\n",
       "         [5.06231154e-04],\n",
       "         [5.43980906e-03]]],\n",
       "\n",
       "\n",
       "       [[[5.54877217e-04],\n",
       "         [1.59641946e-04],\n",
       "         [9.26499251e-06],\n",
       "         ...,\n",
       "         [3.58077719e-18],\n",
       "         [2.01323305e-10],\n",
       "         [1.10934884e-07]],\n",
       "\n",
       "        [[6.91237103e-04],\n",
       "         [3.81154328e-04],\n",
       "         [3.87839973e-05],\n",
       "         ...,\n",
       "         [1.11835856e-23],\n",
       "         [3.46336946e-13],\n",
       "         [1.69455117e-08]],\n",
       "\n",
       "        [[7.28050418e-06],\n",
       "         [2.67396013e-06],\n",
       "         [3.39967045e-07],\n",
       "         ...,\n",
       "         [2.84552297e-28],\n",
       "         [3.36170277e-16],\n",
       "         [3.57366137e-10]],\n",
       "\n",
       "        ...,\n",
       "\n",
       "        [[3.08349402e-13],\n",
       "         [1.37195525e-18],\n",
       "         [5.01965059e-17],\n",
       "         ...,\n",
       "         [9.29915463e-04],\n",
       "         [5.49416849e-03],\n",
       "         [1.00017036e-03]],\n",
       "\n",
       "        [[1.27912410e-08],\n",
       "         [7.44159682e-12],\n",
       "         [3.31088698e-11],\n",
       "         ...,\n",
       "         [1.87958824e-03],\n",
       "         [7.49441842e-03],\n",
       "         [1.25680193e-02]],\n",
       "\n",
       "        [[5.26268617e-04],\n",
       "         [8.93169563e-05],\n",
       "         [5.73561883e-05],\n",
       "         ...,\n",
       "         [2.86042541e-02],\n",
       "         [5.21243997e-02],\n",
       "         [8.68279934e-02]]]], dtype=float32)"
      ]
     },
     "execution_count": 27,
     "metadata": {},
     "output_type": "execute_result"
    }
   ],
   "source": [
    "imgs = generator.predict(tf.random.normal((16, 128, 1)))\n",
    "imgs"
   ]
  },
  {
   "cell_type": "code",
   "execution_count": 29,
   "metadata": {},
   "outputs": [
    {
     "data": {
      "image/png": "[encoded data removed]",
      "text/plain": [
       "<Figure size 2000x2000 with 16 Axes>"
      ]
     },
     "metadata": {},
     "output_type": "display_data"
    }
   ],
   "source": [
    "fig, ax, = plt.subplots(ncols=4, nrows=4, figsize=(20, 20))\n",
    "for r in range(4):\n",
    "    for c in range(4):\n",
    "        ax[r][c].imshow(imgs[(r+1)*(c+1)-1])"
   ]
  },
  {
   "cell_type": "markdown",
   "metadata": {},
   "source": [
    "5.2 Saveing the Model"
   ]
  },
  {
   "cell_type": "code",
   "execution_count": 30,
   "metadata": {},
   "outputs": [
    {
     "name": "stdout",
     "output_type": "stream",
     "text": [
      "WARNING:tensorflow:Compiled the loaded model, but the compiled metrics have yet to be built. `model.compile_metrics` will be empty until you train or evaluate the model.\n"
     ]
    },
    {
     "name": "stderr",
     "output_type": "stream",
     "text": [
      "WARNING:tensorflow:Compiled the loaded model, but the compiled metrics have yet to be built. `model.compile_metrics` will be empty until you train or evaluate the model.\n"
     ]
    },
    {
     "name": "stdout",
     "output_type": "stream",
     "text": [
      "WARNING:tensorflow:Compiled the loaded model, but the compiled metrics have yet to be built. `model.compile_metrics` will be empty until you train or evaluate the model.\n"
     ]
    },
    {
     "name": "stderr",
     "output_type": "stream",
     "text": [
      "WARNING:tensorflow:Compiled the loaded model, but the compiled metrics have yet to be built. `model.compile_metrics` will be empty until you train or evaluate the model.\n"
     ]
    }
   ],
   "source": [
    "generator.save('fashiongenerator.h5')\n",
    "discriminator.save('fashiondiscriminator.h5')"
   ]
  }
 ],
 "metadata": {
  "kernelspec": {
   "display_name": "myenv",
   "language": "python",
   "name": "python3"
  },
  "language_info": {
   "codemirror_mode": {
    "name": "ipython",
    "version": 3
   },
   "file_extension": ".py",
   "mimetype": "text/x-python",
   "name": "python",
   "nbconvert_exporter": "python",
   "pygments_lexer": "ipython3",
   "version": "3.10.0"
  }
 },
 "nbformat": 4,
 "nbformat_minor": 2
}
